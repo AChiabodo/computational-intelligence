{
 "cells": [
  {
   "cell_type": "markdown",
   "metadata": {},
   "source": [
    "Copyright **`(c)`** 2022 Giovanni Squillero `<squillero@polito.it>`  \n",
    "[`https://github.com/squillero/computational-intelligence`](https://github.com/squillero/computational-intelligence)  \n",
    "Free for personal or classroom use; see [`LICENSE.md`](https://github.com/squillero/computational-intelligence/blob/master/LICENSE.md) for details.  "
   ]
  },
  {
   "cell_type": "code",
   "execution_count": 10,
   "metadata": {},
   "outputs": [],
   "source": [
    "import logging\n",
    "from collections import namedtuple\n",
    "import random"
   ]
  },
  {
   "cell_type": "code",
   "execution_count": 11,
   "metadata": {},
   "outputs": [],
   "source": [
    "logging.getLogger().setLevel(logging.INFO)"
   ]
  },
  {
   "cell_type": "code",
   "execution_count": 12,
   "metadata": {},
   "outputs": [],
   "source": [
    "Individual = namedtuple(\"Individual\", [\"genome\", \"fitness\"])"
   ]
  },
  {
   "cell_type": "code",
   "execution_count": 13,
   "metadata": {},
   "outputs": [],
   "source": [
    "def onemax(genome):\n",
    "    return sum(genome) / len(genome)\n",
    "\n",
    "\n",
    "def twomax(genome):\n",
    "    return max(sum(genome) / len(genome), 1 - sum(genome) / len(genome))\n",
    "\n",
    "\n",
    "fitness = twomax"
   ]
  },
  {
   "cell_type": "code",
   "execution_count": 14,
   "metadata": {},
   "outputs": [],
   "source": [
    "NUM_LOCI = 100\n",
    "POPULATION_SIZE = 20\n",
    "OFFSPRING_SIZE = 5"
   ]
  },
  {
   "cell_type": "code",
   "execution_count": 15,
   "metadata": {},
   "outputs": [],
   "source": [
    "def ind2str(individual):\n",
    "    return f\"{''.join('O' if g else '.' for g in individual.genome)} -> {individual.fitness:.2f}\"\n",
    "\n",
    "\n",
    "def xover(g1, g2):\n",
    "    n = random.randint(0, len(g1) - 1)\n",
    "    return g1[:n] + g2[n:]\n",
    "\n",
    "\n",
    "def mutation(g):\n",
    "    n = random.randint(0, len(g) - 1)\n",
    "    m = list(g)\n",
    "    m[n] = not m[n]\n",
    "    return tuple(m)\n",
    "\n",
    "\n",
    "def tournament(population):\n",
    "    t = random.choices(population, k=2)\n",
    "    return max(t, key=lambda i: i[1])"
   ]
  },
  {
   "cell_type": "code",
   "execution_count": 16,
   "metadata": {},
   "outputs": [
    {
     "name": "stdout",
     "output_type": "stream",
     "text": [
      "O..O.O....OOOO...OOO.OO.OO...OOO.O.OO.OO...O.O..O..OOO.O.O.O.OO...O..O............O........O.OO.OO.. -> 0.59\n",
      ".OO...OOOOO..OO..O...OOOO.OO.OOOO.O.OO.O......O.OOOOOOOOO..O.OOOOO...O..O..O.OOO.OOO.OOOOO.OO..OOO.. -> 0.59\n",
      ".O....OOOOO.OOOOOO.OO........OOOOO.O..OOOO..OOO.OOO.OOOO.O..OO.OOO...O.OOOOO..OOOOOOOO.O..OO..O....O -> 0.59\n",
      "O..OO....OO.OO.OOOOOOO.OOOO.OO...O.O.O.OOOOOO..OO..OOO..OO.O...OOOOOO.O..OO...O..O..OOO.OO.OOO...OO. -> 0.58\n",
      "O.O.OO.O..O.O...OO...O..OO..O.OO.OO.OO.O.....O...O.OO..O....O.....OOOO.OO......OOO.....O...OOOOO.OO. -> 0.57\n",
      ".O....O...OO.OO......OOOO..O.OOOO..O..OOO.OO.OOO.OO.OOOOO.OO..O..OOOOOOO.O....OOOOOO...O..O.OOOO.OOO -> 0.57\n",
      ".O..OOO.....OO.O..OO.OOOOOO.O.OO.O.OOOOO...O.OOO.O.OO..O.OOOO...OOO...OOOOO..O..OOO.O.O..OOO..OO.... -> 0.55\n",
      "..O..O..O.OO.OO..OOOO.O...OOO........OOOO..O.O.O.O..O.O...OO.O...O.O..OOOOO...O..OO.O.O.O.O.O..O..OO -> 0.54\n",
      "..OOO..OO.OO.O.O.O..O...OOOOOOO.OO..O.OOO.OOOOOOOO.OO...OO.O.OOO.OO..O.OO..OOOO......O..O..O...O..O. -> 0.54\n",
      "OOOOOO.......OO..OO.OO...OO.O..O.OO..OO..OOOO.OO...O..OO.....O.O.OO.OOOO.OOO..OOOOO..OO.O..OOOO..O.O -> 0.54\n",
      "OO...OO..OO..OO...O....O.O.OOOOOOO.O.O.O.OOOOO..O.O..OOOO..OO.OOOOO.O..O.O.O.OO..O.O.OO.OO...O...O.. -> 0.53\n",
      "O......OOOO..OOO.O.O.OOOO..O.OO.O.OOO..OO..O.O..OO.OOO...O.O.O.OO..OO..OOO.OO.OOOOO..OOO.O.....O.O.. -> 0.53\n",
      "..O...OO...OOOO.O.OOOO.O...O..O.OO.O.O.....O.....OO..O..O..OOO.OOOOO..O.OOO.O....OOOOO.OOOOO.OOO.OO. -> 0.52\n",
      "O.OOO.O.O.O......OOOOOOO.OO.O..OOOO.OOOO...O.OOO...OOO.....O.OO...O.O..OO.OO....O..O...OOO.O..O.OO.O -> 0.51\n",
      "...O.OO.O.O.O.O.OOO.OOO..O....O..O.O.OO.OOOOOOOOO.OO.OO..........OO..O..OO.OO..O.O...O.OO.O.OOOOO.O. -> 0.51\n",
      "OOO...OOO....O..OOOO..OO.OO.OO.OO.O..OO.O....OO....OOOO..OO.O.O..O.OO....O.OO...OO.........OOOO.OOOO -> 0.51\n",
      "OO..OOOOOOO....OO....OO.O.OO.OO.O....O....OOOOO.OOOOOO.....O..OOOOO...O.OO..O.....OO...O..O.O...OOO. -> 0.51\n",
      "OOOO..O...O..O.OOO.O.O..OO.O...OO.O.OO.OOO..OO..OO...OO.OOOO...O..OO..OOOOOO.....O.O..O.OO.O..O.O... -> 0.50\n",
      ".O......O..OOO.O.OOOO....OOO..OO.OO...O..OOOOO.OOO...O.OO...OOO...O...OOO..O..O.OOOO..O....O.OOOO.OO -> 0.50\n",
      "O..O.O.....O.O.OO..O...O....O.O.OOOOO...O.O..O.OOO..OOO.OOO.O.....OO.OOOOO.O.OOOOOO..O..OO.O.O.O..O. -> 0.50\n"
     ]
    }
   ],
   "source": [
    "population = [\n",
    "    Individual(tuple(p), fitness(p))\n",
    "    for p in [[random.random() > 0.5 for _ in range(NUM_LOCI)] for _ in range(POPULATION_SIZE)]\n",
    "]\n",
    "\n",
    "for i in sorted(population, key=lambda i: i[1], reverse=True):\n",
    "    print(ind2str(i))"
   ]
  },
  {
   "cell_type": "code",
   "execution_count": 17,
   "metadata": {},
   "outputs": [
    {
     "name": "stderr",
     "output_type": "stream",
     "text": [
      "INFO:root:ga: Probelm solved in 473 generations\n"
     ]
    }
   ],
   "source": [
    "generations = 0\n",
    "while population[0].fitness < 1:\n",
    "    generations += 1\n",
    "    offspring = list()\n",
    "    for o in range(OFFSPRING_SIZE):\n",
    "        p1 = tournament(population)\n",
    "        if random.random() < 0.2:\n",
    "            o = mutation(p1.genome)\n",
    "        else:\n",
    "            p2 = tournament(population)\n",
    "            o = xover(p1.genome, p2.genome)\n",
    "        offspring.append(Individual(o, fitness(o)))\n",
    "    population.extend(offspring)\n",
    "    population = sorted(population, key=lambda i: i[1], reverse=True)[:POPULATION_SIZE]\n",
    "logging.info(f\"ga: Probelm solved in {generations:,} generations\")"
   ]
  },
  {
   "cell_type": "code",
   "execution_count": 18,
   "metadata": {},
   "outputs": [
    {
     "name": "stdout",
     "output_type": "stream",
     "text": [
      "OOOOOOOOOOOOOOOOOOOOOOOOOOOOOOOOOOOOOOOOOOOOOOOOOOOOOOOOOOOOOOOOOOOOOOOOOOOOOOOOOOOOOOOOOOOOOOOOOOOO -> 1.00\n",
      "OOOOOOOOOOOOOOOOOOOOOOOOOOOOOOOOOOOOO.OOOOOOOOOOOOOOOOOOOOOOOOOOOOOOOOOOOOOOOOOOOOOOOOOOOOOOOOOOOOOO -> 0.99\n",
      "OOOOOOOOOOOOOOOOOOOOOOOOOOOOOOOOOOOOO.OOOOOOOOOOOOOOOOOOOOOOOOOOOOOOOOOOOOOOOOOOOOOOOOOOOOOOOOOOOOOO -> 0.99\n",
      "OOOOOOOOOOOOOOOOOOOOOOOOOOOOOOOOOOOOO.OOOOOOOOOOOOOOOOOOOOOOOOOOOOOOOOOOOOOOOOOOOOOOOOOOOOOOOOOOOOOO -> 0.99\n",
      "OOOOOOOOOOOOOOOOOOOOOOOOOOOOOOOOOOOOO.OOOOOOOOOOOOOOOOOOOOOOOOOOOOOOOOOOOOOOOOOOOOOOOOOOOOOOOOOOOOOO -> 0.99\n",
      "OOOOOOOOOOOOOOOOOOOOOOOOOOOOOOOOOOOOO.OOOOOOOOOOOOOOOOOOOOOOOOOOOOOOOOOOOOOOOOOOOOOOOOOOOOOOOOOOOOOO -> 0.99\n",
      "OOOOOOOOOOOOOOOOOOOOOOOOOOOOOOOOOOOOO.OOOOOOOOOOOOOOOOOOOOOOOOOOOOOOOOOOOOOOOOOOOOOOOOOOOOOOOOOOOOOO -> 0.99\n",
      "OOOOOOOOOOOOOOOOOOOOOOOOOOOOOOOOOOOOO.OOOOOOOOOOOOOOOOOOOOOOOOOOOOOOOOOOOOOOOOOOOOOOOOOOOOOOOOOOOOOO -> 0.99\n",
      "OOOOOOOOOOOOOOOOOOOOOOOOOOOOOOOOOOOOO.OOOOOOOOOOOOOOOOOOOOOOOOOOOOOOOOOOOOOOOOOOOOOOOOOOOOOOOOOOOOOO -> 0.99\n",
      "OOOOOOOOOOOOOOOOOOOOOOOOOOOOOOOOOOOOO.OOOOOOOOOOOOOOOOOOOOOOOOOOOOOOOOOOOOOOOOOOOOOOOOOOOOOOOOOOOOOO -> 0.99\n",
      "OOOOOOOOOOOOOOOOOOOOOOOOOOOOOOOOOOOOO.OOOOOOOOOOOOOOOOOOOOOOOOOOOOOOOOOOOOOOOOOOOOOOOOOOOOOOOOOOOOOO -> 0.99\n",
      "OOOOOOOOOOOOOOOOOOOOOOOOOOOOOOOOOOOOO.OOOOOOOOOOOOOOOOOOOOOOOOOOOOOOOOOOOOOOOOOOOOOOOOOOOOOOOOOOOOOO -> 0.99\n",
      "OOOOOOOOOOOOOOOOOOOOOOOOOOOOOOOOOOOOO.OOOOOOOOOOOOOOOOOOOOOOOOOOOOOOOOOOOOOOOOOOOOOOOOOOOOOOOOOOOOOO -> 0.99\n",
      "OOOOOOOOOOOOOOOOOOOOOOOOOOOOOOOOOOOOO.OOOOOOOOOOOOOOOOOOOOOOOOOOOOOOOOOOOOOOOOOOOOOOOOOOOOOOOOOOOOOO -> 0.99\n",
      "OOOOOOOOOOOOOOOOOOOOOOOOOOOOOOOOOOOOO.OOOOOOOOOOOOOOOOOOOOOOOOOOOOOOOOOOOOOOOOOOOOOOOOOOOOOOOOOOOOOO -> 0.99\n",
      "OOOOOOOOOOOOOOOOOOOOOOOOOOOOOOOOOOOOO.OOOOOOOOOOOOOOOOOOOOOOOOOOOOOOOOOOOOOOOOOOOOOOOOOOOOOOOOOOOOOO -> 0.99\n",
      "OOOOOOOOOOOOOOOOOOOOOOOOOOOOOOOOOOOOO.OOOOOOOOOOOOOOOOOOOOOOOOOOOOOOOOOOOOOOOOOOOOOOOOOOOOOOOOOOOOOO -> 0.99\n",
      "OOOOOOOOOOOOOOOOOOOOOOOOOOOOOOOOOOOOO.OOOOOOOOOOOOOOOOOOOOOOOOOOOOOOOOOOOOOOOOOOOOOOOOOOOOOOOOOOOOOO -> 0.99\n",
      "OOOOOOOOOOOOOOOOOOOOOOOOOOOOOOOOOOOOO.OOOOOOOOOOOOOOOOOOOOOOOOOOOOOOOOOOOOOOOOOOOOOOOOOOOOOOOOOOOOOO -> 0.99\n",
      "OOOOOOOOOOOOOOOOOOOOOOOOOOOOOOOOOOOOO.OOOOOOOOOOOOOOOOOOOOOOOOOOOOOOOOOOOOOOOOOOOOOOOOOOOOOOOOOOOOOO -> 0.99\n"
     ]
    }
   ],
   "source": [
    "for i in sorted(population, key=lambda i: i[1], reverse=True):\n",
    "    print(ind2str(i))"
   ]
  },
  {
   "cell_type": "code",
   "execution_count": null,
   "metadata": {},
   "outputs": [],
   "source": []
  }
 ],
 "metadata": {
  "kernelspec": {
   "display_name": "Python 3.10.7 ('ci22-dPIXJ0_o-py3.10')",
   "language": "python",
   "name": "python3"
  },
  "language_info": {
   "codemirror_mode": {
    "name": "ipython",
    "version": 3
   },
   "file_extension": ".py",
   "mimetype": "text/x-python",
   "name": "python",
   "nbconvert_exporter": "python",
   "pygments_lexer": "ipython3",
   "version": "3.10.7"
  },
  "orig_nbformat": 4,
  "vscode": {
   "interpreter": {
    "hash": "10197e8e2f2aa67e2c349105091c77f4cd384fce4877865f002d9ec653f96bc0"
   }
  }
 },
 "nbformat": 4,
 "nbformat_minor": 2
}
