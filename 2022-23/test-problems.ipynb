{
 "cells": [
  {
   "cell_type": "markdown",
   "metadata": {
    "pycharm": {
     "name": "#%% md\n"
    }
   },
   "source": [
    "Copyright **`(c)`** 2022 Giovanni Squillero `<squillero@polito.it>`  \n",
    "[`https://github.com/squillero/computational-intelligence`](https://github.com/squillero/computational-intelligence)  \n",
    "Free for personal or classroom use; see [`LICENSE.md`](https://github.com/squillero/computational-intelligence/blob/master/LICENSE.md) for details.  \n"
   ]
  },
  {
   "cell_type": "code",
   "execution_count": 1,
   "metadata": {},
   "outputs": [],
   "source": [
    "import logging\n",
    "import random"
   ]
  },
  {
   "cell_type": "markdown",
   "metadata": {},
   "source": [
    "# Test Problems\n",
    "\n",
    "## *Call Counter* annotation for fitness functions"
   ]
  },
  {
   "cell_type": "code",
   "execution_count": 2,
   "metadata": {},
   "outputs": [],
   "source": [
    "__CALLS__ = dict()\n",
    "\n",
    "\n",
    "def CallCounter(fn):\n",
    "    \"\"\"Annotation @CallCounter\"\"\"\n",
    "    assert fn.__name__ not in __CALLS__, f\"Function '{fn.__name__}' already listed in __CALLS__\"\n",
    "    __CALLS__[fn.__name__] = 0\n",
    "    logging.debug(f\"CallCounter: Counting __CALLS__['{fn.__name__}'] ({fn})\")\n",
    "\n",
    "    def call_count(*args, **kwargs):\n",
    "        __CALLS__[fn.__name__] += 1\n",
    "        return fn(*args, **kwargs)\n",
    "\n",
    "    return call_count"
   ]
  },
  {
   "cell_type": "markdown",
   "metadata": {},
   "source": [
    "Example: how many calls to randomly generate a genome of 16 $1$'s?"
   ]
  },
  {
   "cell_type": "code",
   "execution_count": 3,
   "metadata": {},
   "outputs": [
    {
     "name": "stderr",
     "output_type": "stream",
     "text": [
      "DEBUG:root:CallCounter: Counting __CALLS__['onemax'] (<function onemax at 0x112b15240>)\n"
     ]
    },
    {
     "name": "stdout",
     "output_type": "stream",
     "text": [
      "{'onemax': 18372}\n"
     ]
    }
   ],
   "source": [
    "logging.getLogger().setLevel(logging.DEBUG)\n",
    "\n",
    "\n",
    "@CallCounter\n",
    "def onemax(genome):\n",
    "    return max(sum(genome) / len(genome), 1 - sum(genome) / len(genome))\n",
    "\n",
    "\n",
    "while onemax([random.choice([True, False]) for _ in range(16)]) < 1:\n",
    "    pass\n",
    "print(__CALLS__)"
   ]
  },
  {
   "cell_type": "markdown",
   "metadata": {},
   "source": [
    "## Pseudo Set-Covering\n",
    "\n",
    "Given a number $N$ and some lists of integers $P = (L_0, L_1, L_2, ..., L_n)$, \n",
    "determine, if possible, $S = (L_{s_0}, L_{s_1}, L_{s_2}, ..., L_{s_n})$\n",
    "such that each number between $0$ and $N-1$ appears in at least one list\n",
    "\n",
    "$$\\forall n \\in [0, N-1] \\ \\exists i : n \\in L_{s_i}$$\n",
    "\n",
    "and that the total numbers of elements in all $L_{s_i}$ is minimum. "
   ]
  },
  {
   "cell_type": "code",
   "execution_count": 4,
   "metadata": {},
   "outputs": [],
   "source": [
    "def pseudo_set_covering(N, seed=None):\n",
    "    state = random.getstate()\n",
    "    random.seed(seed)\n",
    "    p = [\n",
    "        list(set(random.randint(0, N - 1) for n in range(random.randint(N // 5, N // 2))))\n",
    "        for n in range(random.randint(N, N * 5))\n",
    "    ]\n",
    "    random.setstate(state)\n",
    "    return p"
   ]
  }
 ],
 "metadata": {
  "kernelspec": {
   "display_name": "Python 3.10.8 ('ci22-TL8fdjaI-py3.10')",
   "language": "python",
   "name": "python3"
  },
  "language_info": {
   "codemirror_mode": {
    "name": "ipython",
    "version": 3
   },
   "file_extension": ".py",
   "mimetype": "text/x-python",
   "name": "python",
   "nbconvert_exporter": "python",
   "pygments_lexer": "ipython3",
   "version": "3.10.8"
  },
  "vscode": {
   "interpreter": {
    "hash": "db7869eac3a3065f778b76b149009660cff2da61ddf3afbeaa5d4c3bda380063"
   }
  }
 },
 "nbformat": 4,
 "nbformat_minor": 2
}
