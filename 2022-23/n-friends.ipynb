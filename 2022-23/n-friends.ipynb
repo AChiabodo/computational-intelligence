{
 "cells": [
  {
   "cell_type": "markdown",
   "metadata": {
    "pycharm": {
     "name": "#%% md\n"
    }
   },
   "source": [
    "Copyright **`(c)`** 2022 Giovanni Squillero `<squillero@polito.it>`  \n",
    "[`https://github.com/squillero/computational-intelligence`](https://github.com/squillero/computational-intelligence)  \n",
    "Free for personal or classroom use; see [`LICENSE.md`](https://github.com/squillero/computational-intelligence/blob/master/LICENSE.md) for details.  "
   ]
  },
  {
   "cell_type": "code",
   "execution_count": 1,
   "metadata": {
    "pycharm": {
     "name": "#%%\n"
    }
   },
   "outputs": [],
   "source": [
    "NUM_FRIENDS = 4"
   ]
  },
  {
   "cell_type": "code",
   "execution_count": 2,
   "outputs": [],
   "source": [
    "from gx_utils import *"
   ],
   "metadata": {
    "collapsed": false,
    "pycharm": {
     "name": "#%%\n"
    }
   }
  },
  {
   "cell_type": "code",
   "execution_count": 3,
   "metadata": {
    "pycharm": {
     "name": "#%%\n"
    }
   },
   "outputs": [],
   "source": [
    "from itertools import product, combinations\n",
    "import matplotlib.pyplot as plt\n",
    "import networkx as nx\n",
    "from networkx.drawing.nx_pydot import graphviz_layout"
   ]
  },
  {
   "cell_type": "code",
   "execution_count": null,
   "outputs": [],
   "source": [
    "def node2sets(node):\n",
    "    pizzeria, pub = node.split(\"-\")\n",
    "    return Multiset(pizzeria), Multiset(pub)\n",
    "\n",
    "\n",
    "def sets2node(pizzeria, pub):\n",
    "    return \"\".join(pizzeria) + \"-\" + \"\".join(pub)\n",
    "\n",
    "\n",
    "sspace = nx.Graph()\n",
    "for c, d, b in product(range(NUM_FRIENDS // 2 + 1), range(NUM_FRIENDS // 2 + 1), [True, False]):\n",
    "    pizzeria = (\"*\" if b else \"\") + \"C\" * c + \"D\" * d\n",
    "    pub = (\"*\" if not b else \"\") + \"C\" * (NUM_FRIENDS // 2 - c) + \"D\" * (NUM_FRIENDS // 2 - d)\n",
    "    sspace.add_node(pizzeria + \"-\" + pub)\n",
    "\n",
    "plt.figure(figsize=(12, 8))\n",
    "nx.draw(sspace, with_labels=True)"
   ],
   "metadata": {
    "collapsed": false,
    "pycharm": {
     "name": "#%%\n"
    }
   }
  },
  {
   "cell_type": "code",
   "execution_count": null,
   "outputs": [],
   "source": [
    "def valid_node(node):\n",
    "    pizzeria, pub = node2sets(node)\n",
    "    return valid_location(pizzeria) and valid_location(pub)\n",
    "\n",
    "\n",
    "def valid_location(loc):\n",
    "    if loc.count(\"*\") == 1 and len(loc) == 1:\n",
    "        return False\n",
    "    if 0 < loc.count(\"D\") < loc.count(\"C\"):\n",
    "        return False\n",
    "    return True\n",
    "\n",
    "\n",
    "plt.figure(figsize=(12, 8))\n",
    "nx.draw(\n",
    "    sspace,\n",
    "    with_labels=True,\n",
    "    node_color=[\"lightgreen\" if valid_node(n) else \"lightcoral\" for n in sspace],\n",
    ")"
   ],
   "metadata": {
    "collapsed": false,
    "pycharm": {
     "name": "#%%\n"
    }
   }
  },
  {
   "cell_type": "code",
   "execution_count": null,
   "outputs": [],
   "source": [
    "def bike(from_, to):\n",
    "    possible = list()\n",
    "    for b in [\"*C\", \"*CC\", \"*D\", \"*DD\", \"*CD\"]:\n",
    "        bike = Multiset(b)\n",
    "        if bike <= from_:\n",
    "            possible.append(sets2node(from_ - bike, to + bike))\n",
    "    return possible\n",
    "\n",
    "\n",
    "valid_sspace = nx.Graph()\n",
    "\n",
    "for node in sspace.nodes:\n",
    "    if valid_node(node):\n",
    "        valid_sspace.add_node(node)\n",
    "\n",
    "for n1, n2 in [(a, b) for a in valid_sspace.nodes for b in bike(*node2sets(a)) if valid_node(b)]:\n",
    "    valid_sspace.add_edge(n1, n2)\n",
    "\n",
    "plt.figure(figsize=(12, 8))\n",
    "node_color = [\"pink\" if len(node2sets(n)[0]) == 0 or len(node2sets(n)[1]) == 0 else \"lightblue\" for n in valid_sspace]\n",
    "nx.draw(valid_sspace, pos=graphviz_layout(valid_sspace, prog=\"neato\"), with_labels=True, node_color=node_color)"
   ],
   "metadata": {
    "collapsed": false,
    "pycharm": {
     "name": "#%%\n"
    }
   }
  },
  {
   "cell_type": "code",
   "execution_count": 7,
   "outputs": [
    {
     "data": {
      "text/plain": "['*CCDD-', 'DD-*CC', '*CDD-C', 'C-*CDD', '*CD-CD', '-*CCDD']"
     },
     "execution_count": 7,
     "metadata": {},
     "output_type": "execute_result"
    }
   ],
   "source": [
    "SOURCE = \"*\" + \"C\" * (NUM_FRIENDS // 2) + \"D\" * (NUM_FRIENDS // 2) + \"-\"\n",
    "DESTINATION = \"-*\" + \"C\" * (NUM_FRIENDS // 2) + \"D\" * (NUM_FRIENDS // 2)\n",
    "nx.shortest_path(valid_sspace, SOURCE, DESTINATION)"
   ],
   "metadata": {
    "collapsed": false,
    "pycharm": {
     "name": "#%%\n"
    }
   }
  },
  {
   "cell_type": "code",
   "execution_count": 7,
   "outputs": [],
   "source": [],
   "metadata": {
    "collapsed": false,
    "pycharm": {
     "name": "#%%\n"
    }
   }
  }
 ],
 "metadata": {
  "interpreter": {
   "hash": "81583c29eb1de1e2763f7f94748c11ed9fb4fb1823d30e61923417a9f34f86b1"
  },
  "kernelspec": {
   "display_name": "Python 3.9.7 64-bit ('ci2021': conda)",
   "name": "python3"
  },
  "language_info": {
   "codemirror_mode": {
    "name": "ipython",
    "version": 3
   },
   "file_extension": ".py",
   "mimetype": "text/x-python",
   "name": "python",
   "nbconvert_exporter": "python",
   "pygments_lexer": "ipython3",
   "version": "3.8.0"
  },
  "orig_nbformat": 4
 },
 "nbformat": 4,
 "nbformat_minor": 2
}