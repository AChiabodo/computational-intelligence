{
 "cells": [
  {
   "cell_type": "markdown",
   "source": [
    "Copyright **`(c)`** 2022 Giovanni Squillero `<squillero@polito.it>`  \n",
    "[`https://github.com/squillero/computational-intelligence`](https://github.com/squillero/computational-intelligence)  \n",
    "Free for personal or classroom use; see [`LICENSE.md`](https://github.com/squillero/computational-intelligence/blob/master/LICENSE.md) for details.  "
   ],
   "metadata": {
    "collapsed": false,
    "pycharm": {
     "name": "#%% md\n"
    }
   }
  },
  {
   "cell_type": "code",
   "execution_count": 1,
   "outputs": [],
   "source": [
    "SIZE = 3"
   ],
   "metadata": {
    "collapsed": false,
    "pycharm": {
     "name": "#%%\n"
    }
   }
  },
  {
   "cell_type": "markdown",
   "source": [
    "Let's solve the $(s^2-1)$-puzzle"
   ],
   "metadata": {
    "collapsed": false,
    "pycharm": {
     "name": "#%% md\n"
    }
   }
  },
  {
   "cell_type": "code",
   "execution_count": 2,
   "outputs": [],
   "source": [
    "from gx_utils import *"
   ],
   "metadata": {
    "collapsed": false,
    "pycharm": {
     "name": "#%%\n"
    }
   }
  },
  {
   "cell_type": "code",
   "execution_count": 3,
   "outputs": [],
   "source": [
    "import logging\n",
    "from random import choice\n",
    "from collections import defaultdict\n",
    "\n",
    "logging.basicConfig(format=\"%(message)s\", level=logging.INFO)"
   ],
   "metadata": {
    "collapsed": false,
    "pycharm": {
     "name": "#%%\n"
    }
   }
  },
  {
   "cell_type": "code",
   "execution_count": 4,
   "outputs": [],
   "source": [
    "import numpy as np"
   ],
   "metadata": {
    "collapsed": false,
    "pycharm": {
     "name": "#%%\n"
    }
   }
  },
  {
   "cell_type": "code",
   "execution_count": 5,
   "outputs": [],
   "source": [
    "class State:\n",
    "    def __init__(self, data: np.ndarray):\n",
    "        self._data = data.copy()\n",
    "        self._data.flags.writeable = False\n",
    "\n",
    "    def __hash__(self):\n",
    "        return hash(bytes(self._data))\n",
    "\n",
    "    def __eq__(self, other):\n",
    "        return bytes(self._data) == bytes(other._data)\n",
    "\n",
    "    def __lt__(self, other):\n",
    "        return bytes(self._data) < bytes(other._data)\n",
    "\n",
    "    def __str__(self):\n",
    "        return str(self._data)\n",
    "\n",
    "    def __repr__(self):\n",
    "        return repr(self._data)\n",
    "\n",
    "    @property\n",
    "    def data(self):\n",
    "        return self._data\n",
    "\n",
    "    def copy_data(self):\n",
    "        return self._data.copy()"
   ],
   "metadata": {
    "collapsed": false,
    "pycharm": {
     "name": "#%%\n"
    }
   }
  },
  {
   "cell_type": "markdown",
   "source": [
    "# Tree-Search Algorithms"
   ],
   "metadata": {
    "collapsed": false,
    "pycharm": {
     "name": "#%% md\n"
    }
   }
  },
  {
   "cell_type": "code",
   "execution_count": 6,
   "outputs": [
    {
     "data": {
      "text/plain": "array([[1, 2, 3],\n       [4, 5, 6],\n       [7, 8, 0]])"
     },
     "execution_count": 6,
     "metadata": {},
     "output_type": "execute_result"
    }
   ],
   "source": [
    "def goal_test(state):\n",
    "    return state == GOAL\n",
    "\n",
    "\n",
    "GOAL = State(np.array(list(range(1, SIZE**2)) + [0]).reshape((SIZE, SIZE)))\n",
    "GOAL"
   ],
   "metadata": {
    "collapsed": false,
    "pycharm": {
     "name": "#%%\n"
    }
   }
  },
  {
   "cell_type": "code",
   "execution_count": 7,
   "outputs": [],
   "source": [
    "# (R, C) -> UP / RIGHT / DOWN / LEFT\n",
    "MOVES = [np.array(_) for _ in [(-1, 0), (0, +1), (+1, 0), (0, -1)]]"
   ],
   "metadata": {
    "collapsed": false,
    "pycharm": {
     "name": "#%%\n"
    }
   }
  },
  {
   "cell_type": "code",
   "execution_count": 8,
   "outputs": [],
   "source": [
    "def find_empty_space(board: np.ndarray):\n",
    "    t = np.where(board == 0)\n",
    "    return np.array([t[0][0], t[1][0]])\n",
    "\n",
    "\n",
    "def is_valid(board: np.ndarray, action):\n",
    "    return all(0 <= (find_empty_space(board) + action)[i] < board.shape[i] for i in [0, 1])\n",
    "\n",
    "\n",
    "def possible_actions(state: State):\n",
    "    return (m for m in MOVES if is_valid(state._data, m))"
   ],
   "metadata": {
    "collapsed": false,
    "pycharm": {
     "name": "#%%\n"
    }
   }
  },
  {
   "cell_type": "code",
   "execution_count": 9,
   "outputs": [],
   "source": [
    "def result(state, action):\n",
    "    board = state.copy_data()\n",
    "    space = find_empty_space(board)\n",
    "    pos = space + action\n",
    "    board[space[0], space[1]] = board[pos[0], pos[1]]\n",
    "    board[pos[0], pos[1]] = 0\n",
    "    return State(board)"
   ],
   "metadata": {
    "collapsed": false,
    "pycharm": {
     "name": "#%%\n"
    }
   }
  },
  {
   "cell_type": "code",
   "execution_count": 10,
   "outputs": [
    {
     "data": {
      "text/plain": "array([[5, 7, 6],\n       [3, 1, 2],\n       [8, 4, 0]])"
     },
     "execution_count": 10,
     "metadata": {},
     "output_type": "execute_result"
    }
   ],
   "source": [
    "INITIAL_STATE = GOAL\n",
    "for r in range(500):\n",
    "    INITIAL_STATE = result(INITIAL_STATE, choice(list(possible_actions(INITIAL_STATE))))\n",
    "INITIAL_STATE"
   ],
   "metadata": {
    "collapsed": false,
    "pycharm": {
     "name": "#%%\n"
    }
   }
  },
  {
   "cell_type": "markdown",
   "source": [
    "## Breadth-First"
   ],
   "metadata": {
    "collapsed": false,
    "pycharm": {
     "name": "#%% md\n"
    }
   }
  },
  {
   "cell_type": "code",
   "execution_count": 11,
   "outputs": [],
   "source": [
    "parent_state = dict()\n",
    "state_depth = defaultdict(int)\n",
    "\n",
    "\n",
    "def bf_search(initial_state: State):\n",
    "    visited = set()\n",
    "    frontier = PriorityQueue()\n",
    "    state = initial_state\n",
    "    parent_state[state], state_depth[state] = None, 0\n",
    "\n",
    "    while state is not None and not goal_test(state):\n",
    "        visited.add(state)\n",
    "        for a in possible_actions(state):\n",
    "            new_state = result(state, a)\n",
    "            if new_state not in visited and new_state not in frontier:\n",
    "                parent_state[new_state], state_depth[new_state] = state, state_depth[state] + 1\n",
    "                frontier.push(new_state)\n",
    "            elif new_state in frontier and state_depth[new_state] > state_depth[state] + 1:\n",
    "                logging.debug(f\"Update node in frontier: {state_depth[new_state]} to {state_depth[state]}\")\n",
    "                parent_state[new_state], state_depth[new_state] = state, state_depth[state] + 1\n",
    "        if frontier:\n",
    "            state = frontier.pop()\n",
    "        else:\n",
    "            state = None\n",
    "\n",
    "    path = list()\n",
    "    s = state\n",
    "    while s:\n",
    "        path.append(s.copy_data())\n",
    "        s = parent_state[s]\n",
    "\n",
    "    print(f\"Found a solution in {len(path):,} steps; visited {len(visited):,} states\")\n",
    "    return list(reversed(path))"
   ],
   "metadata": {
    "collapsed": false,
    "pycharm": {
     "name": "#%%\n"
    }
   }
  },
  {
   "cell_type": "code",
   "execution_count": 12,
   "outputs": [
    {
     "name": "stdout",
     "output_type": "stream",
     "text": [
      "Found a solution in 29 steps; visited 128,034 states\n"
     ]
    }
   ],
   "source": [
    "final = bf_search(INITIAL_STATE)"
   ],
   "metadata": {
    "collapsed": false,
    "pycharm": {
     "name": "#%%\n"
    }
   }
  },
  {
   "cell_type": "markdown",
   "source": [
    "## Depth-First"
   ],
   "metadata": {
    "collapsed": false,
    "pycharm": {
     "name": "#%% md\n"
    }
   }
  },
  {
   "cell_type": "code",
   "execution_count": 13,
   "outputs": [],
   "source": [
    "parent_state = dict()\n",
    "state_depth = defaultdict(int)\n",
    "\n",
    "\n",
    "def df_search(initial_state: State):\n",
    "    visited = set()\n",
    "    frontier = PriorityQueue()\n",
    "    state = initial_state\n",
    "    parent_state[state], state_depth[state] = None, 0\n",
    "\n",
    "    n = 0\n",
    "    while state is not None and not goal_test(state):\n",
    "        visited.add(state)\n",
    "        for a in possible_actions(state):\n",
    "            new_state = result(state, a)\n",
    "            if new_state not in visited and new_state not in frontier:\n",
    "                parent_state[new_state], state_depth[new_state] = state, state_depth[state] + 1\n",
    "                n -= 1\n",
    "                frontier.push(new_state, p=n)\n",
    "            elif new_state in frontier and state_depth[new_state] > state_depth[state] + 1:\n",
    "                logging.debug(f\"Update node in frontier: {state_depth[new_state]} to {state_depth[state]}\")\n",
    "                parent_state[new_state], state_depth[new_state] = state, state_depth[state] + 1\n",
    "        if frontier:\n",
    "            state = frontier.pop()\n",
    "        else:\n",
    "            state = None\n",
    "\n",
    "    path = list()\n",
    "    s = state\n",
    "    while s:\n",
    "        path.append(s.copy_data())\n",
    "        s = parent_state[s]\n",
    "\n",
    "    print(f\"Found a solution in {len(path):,} steps; visited {len(visited):,} states\")\n",
    "    return list(reversed(path))"
   ],
   "metadata": {
    "collapsed": false,
    "pycharm": {
     "name": "#%%\n"
    }
   }
  },
  {
   "cell_type": "code",
   "execution_count": 14,
   "outputs": [
    {
     "name": "stdout",
     "output_type": "stream",
     "text": [
      "Found a solution in 55,363 steps; visited 64,550 states\n"
     ]
    }
   ],
   "source": [
    "final = df_search(INITIAL_STATE)"
   ],
   "metadata": {
    "collapsed": false,
    "pycharm": {
     "name": "#%%\n"
    }
   }
  },
  {
   "cell_type": "markdown",
   "source": [
    "## Gready Best-First"
   ],
   "metadata": {
    "collapsed": false,
    "pycharm": {
     "name": "#%% md\n"
    }
   }
  },
  {
   "cell_type": "code",
   "execution_count": 15,
   "outputs": [],
   "source": [
    "def h(state):\n",
    "    return np.sum((state._data != GOAL._data) & (state._data > 0))"
   ],
   "metadata": {
    "collapsed": false,
    "pycharm": {
     "name": "#%%\n"
    }
   }
  },
  {
   "cell_type": "code",
   "execution_count": 16,
   "outputs": [],
   "source": [
    "parent_state = dict()\n",
    "state_depth = defaultdict(int)\n",
    "\n",
    "\n",
    "def gbf_search(initial_state: State):\n",
    "    visited = set()\n",
    "    frontier = PriorityQueue()\n",
    "    state = initial_state\n",
    "    parent_state[state], state_depth[state] = None, 0\n",
    "\n",
    "    while state is not None and not goal_test(state):\n",
    "        visited.add(state)\n",
    "        for a in possible_actions(state):\n",
    "            new_state = result(state, a)\n",
    "            if new_state not in visited and new_state not in frontier:\n",
    "                parent_state[new_state], state_depth[new_state] = state, state_depth[state] + 1\n",
    "                frontier.push(new_state, p=h(new_state))\n",
    "            elif new_state in frontier and state_depth[new_state] > state_depth[state] + 1:\n",
    "                logging.debug(f\"Update node in frontier: {state_depth[new_state]} to {state_depth[state]}\")\n",
    "                parent_state[new_state], state_depth[new_state] = state, state_depth[state] + 1\n",
    "        if frontier:\n",
    "            state = frontier.pop()\n",
    "        else:\n",
    "            state = None\n",
    "\n",
    "    path = list()\n",
    "    s = state\n",
    "    while s:\n",
    "        path.append(s.copy_data())\n",
    "        s = parent_state[s]\n",
    "\n",
    "    print(f\"Found a solution in {len(path):,} steps; visited {len(visited):,} states\")\n",
    "    return list(reversed(path))"
   ],
   "metadata": {
    "collapsed": false,
    "pycharm": {
     "name": "#%%\n"
    }
   }
  },
  {
   "cell_type": "code",
   "execution_count": 17,
   "outputs": [
    {
     "name": "stdout",
     "output_type": "stream",
     "text": [
      "Found a solution in 59 steps; visited 456 states\n"
     ]
    }
   ],
   "source": [
    "final = gbf_search(INITIAL_STATE)"
   ],
   "metadata": {
    "collapsed": false,
    "pycharm": {
     "name": "#%%\n"
    }
   }
  },
  {
   "cell_type": "markdown",
   "source": [
    "## A*"
   ],
   "metadata": {
    "collapsed": false,
    "pycharm": {
     "name": "#%% md\n"
    }
   }
  },
  {
   "cell_type": "code",
   "execution_count": 18,
   "outputs": [],
   "source": [
    "parent_state = dict()\n",
    "state_depth = defaultdict(int)\n",
    "\n",
    "\n",
    "def astar_search(initial_state: State):\n",
    "    visited = set()\n",
    "    frontier = PriorityQueue()\n",
    "    state = initial_state\n",
    "    parent_state[state], state_depth[state] = None, 0\n",
    "\n",
    "    while state is not None and not goal_test(state):\n",
    "        visited.add(state)\n",
    "        for a in possible_actions(state):\n",
    "            new_state = result(state, a)\n",
    "            if new_state not in visited and new_state not in frontier:\n",
    "                parent_state[new_state], state_depth[new_state] = state, state_depth[state] + 1\n",
    "                frontier.push(new_state, p=state_depth[new_state] + h(new_state))\n",
    "            elif new_state in frontier and state_depth[new_state] > state_depth[state] + 1:\n",
    "                logging.debug(f\"Update node in frontier: {state_depth[new_state]} to {state_depth[state]}\")\n",
    "                parent_state[new_state], state_depth[new_state] = state, state_depth[state] + 1\n",
    "        if frontier:\n",
    "            state = frontier.pop()\n",
    "        else:\n",
    "            state = None\n",
    "\n",
    "    path = list()\n",
    "    s = state\n",
    "    while s:\n",
    "        path.append(s.copy_data())\n",
    "        s = parent_state[s]\n",
    "\n",
    "    print(f\"Found a solution in {len(path):,} steps; visited {len(visited):,} states\")\n",
    "    return list(reversed(path))"
   ],
   "metadata": {
    "collapsed": false,
    "pycharm": {
     "name": "#%%\n"
    }
   }
  },
  {
   "cell_type": "code",
   "execution_count": 19,
   "outputs": [
    {
     "name": "stdout",
     "output_type": "stream",
     "text": [
      "Found a solution in 29 steps; visited 55,901 states\n"
     ]
    }
   ],
   "source": [
    "final = astar_search(INITIAL_STATE)"
   ],
   "metadata": {
    "collapsed": false,
    "pycharm": {
     "name": "#%%\n"
    }
   }
  },
  {
   "cell_type": "code",
   "execution_count": null,
   "outputs": [],
   "source": [],
   "metadata": {
    "collapsed": false,
    "pycharm": {
     "name": "#%%\n"
    }
   }
  }
 ],
 "metadata": {
  "interpreter": {
   "hash": "81583c29eb1de1e2763f7f94748c11ed9fb4fb1823d30e61923417a9f34f86b1"
  },
  "kernelspec": {
   "display_name": "Python 3.9.7 64-bit ('ci2021': conda)",
   "name": "python3"
  },
  "language_info": {
   "codemirror_mode": {
    "name": "ipython",
    "version": 3
   },
   "file_extension": ".py",
   "mimetype": "text/x-python",
   "name": "python",
   "nbconvert_exporter": "python",
   "pygments_lexer": "ipython3",
   "version": "3.8.0"
  },
  "orig_nbformat": 4
 },
 "nbformat": 4,
 "nbformat_minor": 2
}