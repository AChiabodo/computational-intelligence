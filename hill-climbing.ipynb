{
 "cells": [
  {
   "cell_type": "markdown",
   "metadata": {},
   "source": [
    "Copyright **`(c)`** 2021 Giovanni Squillero `<squillero@polito.it>`  \n",
    "`https://github.com/squillero/computational-intelligence`  \n",
    "Free for personal or classroom use; see 'LICENCE.md' for details."
   ]
  },
  {
   "cell_type": "code",
   "execution_count": 1,
   "metadata": {},
   "outputs": [],
   "source": [
    "import logging\n",
    "import numpy as np\n",
    "from tqdm.notebook import tqdm\n",
    "\n",
    "logging.basicConfig(format='[%(asctime)s] %(levelname)s: %(message)s', datefmt='%H:%M:%S', level=logging.INFO)"
   ]
  },
  {
   "cell_type": "code",
   "execution_count": 2,
   "metadata": {},
   "outputs": [],
   "source": [
    "NUM_ITEMS = 100\n",
    "DIMENSIONS = 20\n",
    "\n",
    "WEIGHTS = np.random.randint(1, 50+1, size=(NUM_ITEMS, DIMENSIONS))\n",
    "MAX_WEIGHTS = np.full(DIMENSIONS, NUM_ITEMS*20)\n",
    "VALUES = np.random.randint(1, 100+1, size=NUM_ITEMS)"
   ]
  },
  {
   "cell_type": "code",
   "execution_count": 3,
   "metadata": {},
   "outputs": [],
   "source": [
    "def value(knapsack):\n",
    "    if all(np.sum(WEIGHTS[knapsack], axis=0) < MAX_WEIGHTS):\n",
    "        return np.sum(VALUES[knapsack])\n",
    "    else:\n",
    "        return -1"
   ]
  },
  {
   "cell_type": "code",
   "execution_count": 4,
   "metadata": {},
   "outputs": [
    {
     "data": {
      "application/vnd.jupyter.widget-view+json": {
       "model_id": "78c9ec92372246b097352ab64b6886c8",
       "version_major": 2,
       "version_minor": 0
      },
      "text/plain": [
       "  0%|          | 0/200 [00:00<?, ?it/s]"
      ]
     },
     "metadata": {},
     "output_type": "display_data"
    },
    {
     "name": "stderr",
     "output_type": "stream",
     "text": [
      "[14:15:26] INFO: Whoa! After 1 found value=79\n",
      "[14:15:26] INFO: Whoa! After 2 found value=132\n",
      "[14:15:26] INFO: Whoa! After 3 found value=219\n",
      "[14:15:26] INFO: Whoa! After 4 found value=260\n",
      "[14:15:26] INFO: Whoa! After 5 found value=283\n",
      "[14:15:26] INFO: Whoa! After 6 found value=300\n",
      "[14:15:26] INFO: Whoa! After 7 found value=392\n",
      "[14:15:26] INFO: Whoa! After 8 found value=479\n",
      "[14:15:26] INFO: Whoa! After 9 found value=530\n",
      "[14:15:26] INFO: Whoa! After 10 found value=540\n",
      "[14:15:26] INFO: Whoa! After 11 found value=563\n",
      "[14:15:26] INFO: Whoa! After 12 found value=634\n",
      "[14:15:26] INFO: Whoa! After 13 found value=687\n",
      "[14:15:26] INFO: Whoa! After 15 found value=705\n",
      "[14:15:26] INFO: Whoa! After 16 found value=736\n",
      "[14:15:26] INFO: Whoa! After 17 found value=783\n",
      "[14:15:26] INFO: Whoa! After 18 found value=824\n",
      "[14:15:26] INFO: Whoa! After 19 found value=890\n",
      "[14:15:26] INFO: Whoa! After 20 found value=963\n",
      "[14:15:26] INFO: Whoa! After 22 found value=1,019\n",
      "[14:15:26] INFO: Whoa! After 23 found value=1,047\n",
      "[14:15:26] INFO: Whoa! After 24 found value=1,062\n",
      "[14:15:26] INFO: Whoa! After 26 found value=1,090\n",
      "[14:15:26] INFO: Whoa! After 27 found value=1,188\n",
      "[14:15:26] INFO: Whoa! After 28 found value=1,229\n",
      "[14:15:26] INFO: Whoa! After 29 found value=1,286\n",
      "[14:15:26] INFO: Whoa! After 30 found value=1,309\n",
      "[14:15:26] INFO: Whoa! After 32 found value=1,369\n",
      "[14:15:26] INFO: Whoa! After 33 found value=1,374\n",
      "[14:15:26] INFO: Whoa! After 35 found value=1,465\n",
      "[14:15:26] INFO: Whoa! After 37 found value=1,529\n",
      "[14:15:26] INFO: Whoa! After 38 found value=1,584\n",
      "[14:15:26] INFO: Whoa! After 39 found value=1,628\n",
      "[14:15:26] INFO: Whoa! After 40 found value=1,639\n",
      "[14:15:26] INFO: Whoa! After 41 found value=1,679\n",
      "[14:15:26] INFO: Whoa! After 43 found value=1,690\n",
      "[14:15:26] INFO: Whoa! After 46 found value=1,771\n",
      "[14:15:26] INFO: Whoa! After 48 found value=1,836\n",
      "[14:15:26] INFO: Whoa! After 50 found value=1,919\n",
      "[14:15:26] INFO: Whoa! After 51 found value=1,956\n",
      "[14:15:26] INFO: Whoa! After 54 found value=2,019\n",
      "[14:15:26] INFO: Whoa! After 55 found value=2,095\n",
      "[14:15:26] INFO: Whoa! After 59 found value=2,190\n",
      "[14:15:26] INFO: Whoa! After 61 found value=2,248\n",
      "[14:15:26] INFO: Whoa! After 62 found value=2,282\n",
      "[14:15:26] INFO: Whoa! After 64 found value=2,372\n",
      "[14:15:26] INFO: Whoa! After 65 found value=2,451\n",
      "[14:15:26] INFO: Whoa! After 66 found value=2,543\n",
      "[14:15:26] INFO: Whoa! After 67 found value=2,584\n",
      "[14:15:26] INFO: Whoa! After 69 found value=2,639\n",
      "[14:15:26] INFO: Whoa! After 73 found value=2,691\n",
      "[14:15:26] INFO: Whoa! After 75 found value=2,761\n",
      "[14:15:26] INFO: Whoa! After 76 found value=2,769\n",
      "[14:15:26] INFO: Whoa! After 77 found value=2,783\n",
      "[14:15:26] INFO: Whoa! After 79 found value=2,871\n",
      "[14:15:26] INFO: Whoa! After 80 found value=2,916\n",
      "[14:15:26] INFO: Whoa! After 84 found value=2,973\n",
      "[14:15:26] INFO: Whoa! After 85 found value=3,006\n",
      "[14:15:26] INFO: Whoa! After 88 found value=3,079\n",
      "[14:15:26] INFO: Whoa! After 90 found value=3,085\n",
      "[14:15:26] INFO: Whoa! After 91 found value=3,112\n",
      "[14:15:26] INFO: Whoa! After 93 found value=3,137\n",
      "[14:15:26] INFO: Whoa! After 94 found value=3,148\n",
      "[14:15:26] INFO: Whoa! After 99 found value=3,202\n",
      "[14:15:26] INFO: Whoa! After 101 found value=3,239\n",
      "[14:15:26] INFO: Whoa! After 102 found value=3,338\n",
      "[14:15:26] INFO: Whoa! After 107 found value=3,342\n",
      "[14:15:26] INFO: Whoa! After 113 found value=3,386\n",
      "[14:15:26] INFO: Whoa! After 124 found value=3,405\n",
      "[14:15:26] INFO: Whoa! After 138 found value=3,432\n"
     ]
    }
   ],
   "source": [
    "solution = np.full(NUM_ITEMS, False)\n",
    "\n",
    "history = [value(solution)]\n",
    "for n in tqdm(range(1, 200+1)):\n",
    "    new_solution = solution.copy()\n",
    "    index = np.random.randint(0, NUM_ITEMS)\n",
    "    new_solution[index] = not new_solution[index]\n",
    "    history.append(value(new_solution))\n",
    "    if value(new_solution) > value(solution):\n",
    "        logging.info(f\"Whoa! After {n:,} found value={value(new_solution):,}\")\n",
    "        solution = new_solution"
   ]
  },
  {
   "cell_type": "code",
   "execution_count": 5,
   "metadata": {},
   "outputs": [
    {
     "data": {
      "text/plain": [
       "<matplotlib.collections.PathCollection at 0x7fe779d27880>"
      ]
     },
     "execution_count": 5,
     "metadata": {},
     "output_type": "execute_result"
    },
    {
     "data": {
      "image/png": "[encoded data removed]",
      "text/plain": [
       "<Figure size 1008x576 with 1 Axes>"
      ]
     },
     "metadata": {
      "needs_background": "light"
     },
     "output_type": "display_data"
    }
   ],
   "source": [
    "from matplotlib import pyplot as plt\n",
    "plt.figure(figsize=(14, 8)) \n",
    "plt.plot(range(len(history)), [max(history[:i+1]) for i in range(len(history))], color='red')\n",
    "plt.scatter(range(len(history)), history, marker='.')"
   ]
  }
 ],
 "metadata": {
  "interpreter": {
   "hash": "371627151b0642f6c185c280fa16312776bda89bbb063ce0f2d8135c657194f4"
  },
  "kernelspec": {
   "display_name": "Python 3.8.2 64-bit ('ci2021': conda)",
   "name": "python3"
  },
  "language_info": {
   "codemirror_mode": {
    "name": "ipython",
    "version": 3
   },
   "file_extension": ".py",
   "mimetype": "text/x-python",
   "name": "python",
   "nbconvert_exporter": "python",
   "pygments_lexer": "ipython3",
   "version": "3.8.2"
  },
  "orig_nbformat": 4
 },
 "nbformat": 4,
 "nbformat_minor": 2
}
