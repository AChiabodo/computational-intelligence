{
 "cells": [
  {
   "cell_type": "markdown",
   "metadata": {},
   "source": [
    "Copyright **`(c)`** 2021 Giovanni Squillero `<squillero@polito.it>`  \n",
    "[`https://github.com/squillero/computational-intelligence`](https://github.com/squillero/computational-intelligence)  \n",
    "Free for personal or classroom use; see 'LICENCE.md' for details."
   ]
  },
  {
   "cell_type": "code",
   "execution_count": 6,
   "metadata": {},
   "outputs": [],
   "source": [
    "import logging\n",
    "import numpy as np\n",
    "from tqdm.notebook import tqdm\n",
    "from matplotlib import pyplot as plt\n",
    "from matplotlib import cm\n",
    "\n",
    "logging.basicConfig(format='[%(asctime)s] %(levelname)s: %(message)s', datefmt='%H:%M:%S', level=logging.INFO)"
   ]
  },
  {
   "cell_type": "code",
   "execution_count": 91,
   "metadata": {},
   "outputs": [],
   "source": [
    "def onemax(individual):\n",
    "    if individual.ndim == 1:\n",
    "        return np.sum(individual)\n",
    "    else:\n",
    "        return np.sum(individual, axis=1)"
   ]
  },
  {
   "cell_type": "code",
   "execution_count": 24,
   "metadata": {},
   "outputs": [
    {
     "data": {
      "text/plain": [
       "array([2, 0, 1])"
      ]
     },
     "execution_count": 24,
     "metadata": {},
     "output_type": "execute_result"
    }
   ],
   "source": [
    "fitness = onemax(np.array([[True, False], [True, True], [False, False]]))\n",
    "fitness.argsort()"
   ]
  },
  {
   "cell_type": "code",
   "execution_count": 25,
   "metadata": {},
   "outputs": [
    {
     "data": {
      "text/plain": [
       "array([1, 2, 0])"
      ]
     },
     "execution_count": 25,
     "metadata": {},
     "output_type": "execute_result"
    }
   ],
   "source": [
    "fitness"
   ]
  },
  {
   "cell_type": "code",
   "execution_count": 98,
   "metadata": {},
   "outputs": [],
   "source": [
    "GENOME_LENGTH = 10\n",
    "POPULATION_SIZE = 20\n",
    "OFFSPRING_SIZE = 50"
   ]
  },
  {
   "cell_type": "code",
   "execution_count": 99,
   "metadata": {},
   "outputs": [],
   "source": [
    "TOURNAMEN_SIZE = 2\n",
    "MUTATION_PROBABILITY = 1/GENOME_LENGTH\n",
    "\n",
    "def parent_selection(population):\n",
    "    tournament = population[np.random.randint(0, len(population), size=(TOURNAMEN_SIZE,))]\n",
    "    fitness = onemax(tournament)\n",
    "    return tournament[fitness.argmax()]\n",
    "\n",
    "def xover(parent1, parent2):\n",
    "    return np.array([p1 if r < .5 else p2 \n",
    "        for p1, p2, r in zip(parent1, parent2, np.random.random(GENOME_LENGTH))])\n",
    "\n",
    "def mutate(parent):\n",
    "    offspring = np.copy(parent)\n",
    "    while np.random.random() < MUTATION_PROBABILITY:\n",
    "        i = np.random.randint(0, GENOME_LENGTH)\n",
    "        offspring[i] = not parent[i]\n",
    "    return offspring"
   ]
  },
  {
   "cell_type": "code",
   "execution_count": 102,
   "metadata": {},
   "outputs": [],
   "source": [
    "logging.getLogger().setLevel(logging.DEBUG)"
   ]
  },
  {
   "cell_type": "code",
   "execution_count": 104,
   "metadata": {},
   "outputs": [
    {
     "name": "stderr",
     "output_type": "stream",
     "text": [
      "[13:35:57] DEBUG:   2 : 2\n",
      "[13:35:57] DEBUG:   3 : 8\n",
      "[13:35:57] DEBUG:   4 : 8\n",
      "[13:35:57] DEBUG:   5 : 9\n",
      "[13:35:57] DEBUG:   6 : 8\n",
      "[13:35:57] DEBUG:   7 : 9\n",
      "[13:35:57] DEBUG:   8 : 8\n",
      "[13:35:57] DEBUG:   9 : 9\n",
      "[13:35:57] DEBUG:  10 : 9\n",
      "[13:35:57] DEBUG:  11 : 9\n",
      "[13:35:57] DEBUG:  12 : 9\n",
      "[13:35:57] DEBUG:  13 : 9\n",
      "[13:35:57] DEBUG:  14 : 9\n"
     ]
    },
    {
     "name": "stdout",
     "output_type": "stream",
     "text": [
      "Problem solved in 14 generations (fitness=10)\n",
      "[ True  True  True  True  True  True  True  True  True  True]\n"
     ]
    }
   ],
   "source": [
    "population = np.array(np.random.random((POPULATION_SIZE, GENOME_LENGTH)) < .5)\n",
    "\n",
    "generations = 1\n",
    "while onemax(population[0]) < GENOME_LENGTH:\n",
    "    generations += 1\n",
    "    logging.debug(f\"{generations:3d} : {onemax(population[0])}\")\n",
    "    p1, p2 = parent_selection(population), parent_selection(population)\n",
    "    offspring = np.vstack([mutate(xover(p1, p2)) for _ in range(OFFSPRING_SIZE)])\n",
    "    fitness = onemax(offspring)\n",
    "    population = np.copy(offspring[fitness.argsort()[::-1]][:POPULATION_SIZE])\n",
    "\n",
    "print(f\"Problem solved in {generations:,} generations (fitness={onemax(population[0])})\\n{population[0]}\")"
   ]
  }
 ],
 "metadata": {
  "interpreter": {
   "hash": "371627151b0642f6c185c280fa16312776bda89bbb063ce0f2d8135c657194f4"
  },
  "kernelspec": {
   "display_name": "Python 3.8.2 64-bit ('ci2021': conda)",
   "name": "python3"
  },
  "language_info": {
   "codemirror_mode": {
    "name": "ipython",
    "version": 3
   },
   "file_extension": ".py",
   "mimetype": "text/x-python",
   "name": "python",
   "nbconvert_exporter": "python",
   "pygments_lexer": "ipython3",
   "version": "3.8.2"
  },
  "orig_nbformat": 4
 },
 "nbformat": 4,
 "nbformat_minor": 2
}
