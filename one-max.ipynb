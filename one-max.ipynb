{
 "cells": [
  {
   "cell_type": "markdown",
   "metadata": {},
   "source": [
    "Copyright **`(c)`** 2021 Giovanni Squillero `<squillero@polito.it>`  \n",
    "[`https://github.com/squillero/computational-intelligence`](https://github.com/squillero/computational-intelligence)  \n",
    "Free for personal or classroom use; see 'LICENCE.md' for details."
   ]
  },
  {
   "cell_type": "code",
   "execution_count": 1,
   "metadata": {},
   "outputs": [],
   "source": [
    "import logging\n",
    "import numpy as np\n",
    "from matplotlib import pyplot as plt\n",
    "from matplotlib import cm\n",
    "\n",
    "logging.basicConfig(format='[%(asctime)s] %(levelname)s: %(message)s', datefmt='%H:%M:%S', level=logging.INFO)"
   ]
  },
  {
   "cell_type": "code",
   "execution_count": 2,
   "metadata": {},
   "outputs": [],
   "source": [
    "def onemax(individual):\n",
    "    if individual.ndim == 1:\n",
    "        return np.sum(individual)\n",
    "    else:\n",
    "        return np.sum(individual, axis=1)\n",
    "\n",
    "def twomax(individual):\n",
    "    if individual.ndim == 1:\n",
    "        sum_ = np.sum(individual)\n",
    "        return max(sum_, individual.shape[0]-sum_)\n",
    "    else:\n",
    "        sum_ = np.sum(individual, axis=1)\n",
    "        return np.maximum(sum_, individual.shape[1]-sum_)\n"
   ]
  },
  {
   "cell_type": "code",
   "execution_count": 9,
   "metadata": {},
   "outputs": [
    {
     "data": {
      "text/plain": [
       "3"
      ]
     },
     "execution_count": 9,
     "metadata": {},
     "output_type": "execute_result"
    }
   ],
   "source": [
    "np.array([0,0,0]).shape[0]"
   ]
  },
  {
   "cell_type": "code",
   "execution_count": 3,
   "metadata": {},
   "outputs": [],
   "source": [
    "GENOME_LENGTH = 100\n",
    "POPULATION_SIZE = 20\n",
    "OFFSPRING_SIZE = 50\n",
    "TOURNAMEN_SIZE = 2\n",
    "MUTATION_PROBABILITY = 1/GENOME_LENGTH"
   ]
  },
  {
   "cell_type": "code",
   "execution_count": 4,
   "metadata": {},
   "outputs": [],
   "source": [
    "def parent_selection(population):\n",
    "    tournament = population[np.random.randint(0, len(population), size=(TOURNAMEN_SIZE,))]\n",
    "    fitness = onemax(tournament)\n",
    "    return np.copy(tournament[fitness.argmax()])\n",
    "\n",
    "def xover(parent1, parent2):\n",
    "    return np.array([p1 if r < .5 else p2 \n",
    "        for p1, p2, r in zip(parent1, parent2, np.random.random(GENOME_LENGTH))])\n",
    "\n",
    "def mutate(parent):\n",
    "    offspring = np.copy(parent)\n",
    "    while np.random.random() < MUTATION_PROBABILITY:\n",
    "        i = np.random.randint(0, GENOME_LENGTH)\n",
    "        offspring[i] = not parent[i]\n",
    "    return offspring"
   ]
  },
  {
   "cell_type": "code",
   "execution_count": 5,
   "metadata": {},
   "outputs": [
    {
     "name": "stdout",
     "output_type": "stream",
     "text": [
      "Problem solved in 253 generations (fitness=100)\n",
      "[ True  True  True  True  True  True  True  True  True  True  True  True\n",
      "  True  True  True  True  True  True  True  True  True  True  True  True\n",
      "  True  True  True  True  True  True  True  True  True  True  True  True\n",
      "  True  True  True  True  True  True  True  True  True  True  True  True\n",
      "  True  True  True  True  True  True  True  True  True  True  True  True\n",
      "  True  True  True  True  True  True  True  True  True  True  True  True\n",
      "  True  True  True  True  True  True  True  True  True  True  True  True\n",
      "  True  True  True  True  True  True  True  True  True  True  True  True\n",
      "  True  True  True  True]\n"
     ]
    }
   ],
   "source": [
    "population = np.array(np.random.random((POPULATION_SIZE, GENOME_LENGTH)) < .5)\n",
    "\n",
    "generations = 1\n",
    "history = list()\n",
    "while onemax(population[0]) < GENOME_LENGTH:\n",
    "    generations += 1\n",
    "    offspring = list()\n",
    "    for o in range(OFFSPRING_SIZE):\n",
    "        p1, p2 = parent_selection(population), parent_selection(population)\n",
    "        offspring.append(mutate(xover(p1, p2)))\n",
    "    offspring = np.array(offspring)\n",
    "    #fitness = onemax(offspring)\n",
    "    fitness = twomax(offspring)\n",
    "    history += fitness.tolist()\n",
    "    population = np.copy(offspring[fitness.argsort()[::-1]][:POPULATION_SIZE])\n",
    "\n",
    "print(f\"Problem solved in {generations:,} generations (fitness={onemax(population[0])})\\n{population[0]}\")"
   ]
  },
  {
   "cell_type": "code",
   "execution_count": 6,
   "metadata": {},
   "outputs": [
    {
     "data": {
      "text/plain": [
       "[<matplotlib.lines.Line2D at 0x7fa738e230d0>]"
      ]
     },
     "execution_count": 6,
     "metadata": {},
     "output_type": "execute_result"
    },
    {
     "data": {
      "image/png": "[encoded data removed]",
      "text/plain": [
       "<Figure size 1008x288 with 1 Axes>"
      ]
     },
     "metadata": {
      "needs_background": "light"
     },
     "output_type": "display_data"
    }
   ],
   "source": [
    "history = np.array(history)\n",
    "plt.figure(figsize=(14, 4)) \n",
    "plt.plot(history, '.')"
   ]
  },
  {
   "cell_type": "code",
   "execution_count": null,
   "metadata": {},
   "outputs": [],
   "source": []
  }
 ],
 "metadata": {
  "interpreter": {
   "hash": "40d3a090f54c6569ab1632332b64b2c03c39dcf918b08424e98f38b5ae0af88f"
  },
  "kernelspec": {
   "display_name": "Python 3.7.10 64-bit ('base': conda)",
   "name": "python3"
  },
  "language_info": {
   "codemirror_mode": {
    "name": "ipython",
    "version": 3
   },
   "file_extension": ".py",
   "mimetype": "text/x-python",
   "name": "python",
   "nbconvert_exporter": "python",
   "pygments_lexer": "ipython3",
   "version": "3.7.10"
  },
  "orig_nbformat": 4
 },
 "nbformat": 4,
 "nbformat_minor": 2
}
