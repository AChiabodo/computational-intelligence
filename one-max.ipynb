{
 "cells": [
  {
   "cell_type": "markdown",
   "metadata": {},
   "source": [
    "Copyright **`(c)`** 2021 Giovanni Squillero `<squillero@polito.it>`  \n",
    "[`https://github.com/squillero/computational-intelligence`](https://github.com/squillero/computational-intelligence)  \n",
    "Free for personal or classroom use; see 'LICENCE.md' for details."
   ]
  },
  {
   "cell_type": "code",
   "execution_count": 1,
   "metadata": {},
   "outputs": [],
   "source": [
    "import logging\n",
    "import numpy as np\n",
    "from matplotlib import pyplot as plt\n",
    "from matplotlib import cm\n",
    "\n",
    "logging.basicConfig(format='[%(asctime)s] %(levelname)s: %(message)s', datefmt='%H:%M:%S', level=logging.INFO)"
   ]
  },
  {
   "cell_type": "code",
   "execution_count": 2,
   "metadata": {},
   "outputs": [],
   "source": [
    "def onemax(individual):\n",
    "    if individual.ndim == 1:\n",
    "        return np.sum(individual)\n",
    "    else:\n",
    "        return np.sum(individual, axis=1)"
   ]
  },
  {
   "cell_type": "code",
   "execution_count": 14,
   "metadata": {},
   "outputs": [],
   "source": [
    "GENOME_LENGTH = 100\n",
    "POPULATION_SIZE = 20\n",
    "OFFSPRING_SIZE = 50\n",
    "TOURNAMEN_SIZE = 2\n",
    "MUTATION_PROBABILITY = 1/GENOME_LENGTH"
   ]
  },
  {
   "cell_type": "code",
   "execution_count": 15,
   "metadata": {},
   "outputs": [],
   "source": [
    "def parent_selection(population):\n",
    "    tournament = population[np.random.randint(0, len(population), size=(TOURNAMEN_SIZE,))]\n",
    "    fitness = onemax(tournament)\n",
    "    return tournament[fitness.argmax()]\n",
    "\n",
    "def xover(parent1, parent2):\n",
    "    return np.array([p1 if r < .5 else p2 \n",
    "        for p1, p2, r in zip(parent1, parent2, np.random.random(GENOME_LENGTH))])\n",
    "\n",
    "def mutate(parent):\n",
    "    offspring = np.copy(parent)\n",
    "    while np.random.random() < MUTATION_PROBABILITY:\n",
    "        i = np.random.randint(0, GENOME_LENGTH)\n",
    "        offspring[i] = not parent[i]\n",
    "    return offspring"
   ]
  },
  {
   "cell_type": "code",
   "execution_count": 16,
   "metadata": {},
   "outputs": [
    {
     "name": "stdout",
     "output_type": "stream",
     "text": [
      "Problem solved in 2,849 generations (fitness=100)\n",
      "[ True  True  True  True  True  True  True  True  True  True  True  True\n",
      "  True  True  True  True  True  True  True  True  True  True  True  True\n",
      "  True  True  True  True  True  True  True  True  True  True  True  True\n",
      "  True  True  True  True  True  True  True  True  True  True  True  True\n",
      "  True  True  True  True  True  True  True  True  True  True  True  True\n",
      "  True  True  True  True  True  True  True  True  True  True  True  True\n",
      "  True  True  True  True  True  True  True  True  True  True  True  True\n",
      "  True  True  True  True  True  True  True  True  True  True  True  True\n",
      "  True  True  True  True]\n"
     ]
    }
   ],
   "source": [
    "population = np.array(np.random.random((POPULATION_SIZE, GENOME_LENGTH)) < .5)\n",
    "\n",
    "generations = 1\n",
    "history = list()\n",
    "while onemax(population[0]) < GENOME_LENGTH:\n",
    "    generations += 1\n",
    "    p1, p2 = parent_selection(population), parent_selection(population)\n",
    "    offspring = np.vstack([mutate(xover(p1, p2)) for _ in range(OFFSPRING_SIZE)])\n",
    "    fitness = onemax(offspring)\n",
    "    history += fitness.tolist()\n",
    "    population = np.copy(offspring[fitness.argsort()[::-1]][:POPULATION_SIZE])\n",
    "\n",
    "print(f\"Problem solved in {generations:,} generations (fitness={onemax(population[0])})\\n{population[0]}\")"
   ]
  },
  {
   "cell_type": "code",
   "execution_count": 17,
   "metadata": {},
   "outputs": [
    {
     "data": {
      "text/plain": [
       "[<matplotlib.lines.Line2D at 0x7f85d0d83c10>]"
      ]
     },
     "execution_count": 17,
     "metadata": {},
     "output_type": "execute_result"
    },
    {
     "data": {
      "image/png": "[encoded data removed]",
      "text/plain": [
       "<Figure size 1008x288 with 1 Axes>"
      ]
     },
     "metadata": {
      "needs_background": "light"
     },
     "output_type": "display_data"
    }
   ],
   "source": [
    "history = np.array(history)\n",
    "plt.figure(figsize=(14, 4)) \n",
    "plt.plot(history, '.')"
   ]
  },
  {
   "cell_type": "code",
   "execution_count": null,
   "metadata": {},
   "outputs": [],
   "source": []
  }
 ],
 "metadata": {
  "interpreter": {
   "hash": "371627151b0642f6c185c280fa16312776bda89bbb063ce0f2d8135c657194f4"
  },
  "kernelspec": {
   "display_name": "Python 3.8.2 64-bit ('ci2021': conda)",
   "name": "python3"
  },
  "language_info": {
   "codemirror_mode": {
    "name": "ipython",
    "version": 3
   },
   "file_extension": ".py",
   "mimetype": "text/x-python",
   "name": "python",
   "nbconvert_exporter": "python",
   "pygments_lexer": "ipython3",
   "version": "3.8.2"
  },
  "orig_nbformat": 4
 },
 "nbformat": 4,
 "nbformat_minor": 2
}
