{
 "cells": [
  {
   "cell_type": "markdown",
   "source": [
    "Copyright **`(c)`** 2021 Giovanni Squillero `<squillero@polito.it>`  \r\n",
    "`https://github.com/squillero/computational-intelligence`  \r\n",
    "Free for personal or classroom use; see 'LICENCE.md' for details."
   ],
   "metadata": {}
  },
  {
   "cell_type": "code",
   "execution_count": 1,
   "source": [
    "from itertools import product\n",
    "from collections import deque\n",
    "import networkx as nx\n",
    "import numpy as np\n",
    "\n",
    "from tqdm.notebook import tqdm"
   ],
   "outputs": [],
   "metadata": {}
  },
  {
   "cell_type": "code",
   "execution_count": 2,
   "source": [
    "def _contains_duplicates(X):\n",
    "    return np.sum(np.unique(X)) != np.sum(X)\n",
    "\n",
    "def contains_duplicates(sol):\n",
    "    return any((any(_contains_duplicates(sol[r,:]) for r in range(9)), \n",
    "                any(_contains_duplicates(sol[:,r]) for r in range(9)), \n",
    "                any(_contains_duplicates(sol[r:r+3:,c:c+3]) for r in range(0,9,3) for c in range(0,9,3))))\n",
    "\n",
    "def valid_solution(sol):\n",
    "    return not contains_duplicates(sol) and np.sum(sol) == (1+2+3+4+5+6+7+8+9) * 9\n"
   ],
   "outputs": [],
   "metadata": {}
  },
  {
   "cell_type": "code",
   "execution_count": 3,
   "source": [
    "SUDOKU = np.array([[6, 0, 4,    0, 7, 0,    0, 0, 1],\n",
    "                   [0, 5, 0,    0, 0, 0,    0, 7, 0], \n",
    "                   [7, 0, 0,    5, 9, 6,    8, 3, 4], \n",
    "\n",
    "                   [0, 8, 0,    0, 0, 2,    4, 9, 0], \n",
    "                   [1, 0, 0,    0, 0, 0,    0, 0, 3], \n",
    "                   [0, 6, 9,    7, 0, 0,    0, 5, 0], \n",
    "\n",
    "                   [9, 1, 8,    3, 6, 7,    0, 0, 5], \n",
    "                   [0, 4, 0,    0, 0, 0,    0, 6, 0], \n",
    "                   [2, 0, 0,    0, 5, 0,    7, 0, 8]], dtype=np.byte)"
   ],
   "outputs": [],
   "metadata": {}
  },
  {
   "cell_type": "code",
   "execution_count": 4,
   "source": [
    "frontier = deque([SUDOKU.copy()])\n",
    "\n",
    "with tqdm(unit=\"n\", total=None, unit_scale=True) as progress:\n",
    "    tot_nodes = 0\n",
    "    while frontier:\n",
    "        tot_nodes += 1\n",
    "        progress.update(1)\n",
    "\n",
    "        node = frontier.popleft()\n",
    "\n",
    "        if valid_solution(node):\n",
    "            break\n",
    "\n",
    "        stuck = True\n",
    "        for i, j in zip(*np.where(node == 0)):\n",
    "            for c in range(1, 10):\n",
    "                node[i, j] = c\n",
    "                if not contains_duplicates(node):\n",
    "                    frontier.append(node.copy())\n",
    "                    stuck = False\n",
    "\n",
    "if valid_solution(node):\n",
    "    print(f\"Whoa! Solved expanding {tot_nodes:,} nodes\")\n"
   ],
   "outputs": [
    {
     "output_type": "display_data",
     "data": {
      "application/vnd.jupyter.widget-view+json": {
       "version_major": 2,
       "version_minor": 0,
       "model_id": "4f4f78ae67d4447dad5604ca8dd29239"
      },
      "text/plain": [
       "0.00n [00:00, ?n/s]"
      ]
     },
     "metadata": {}
    },
    {
     "output_type": "stream",
     "name": "stdout",
     "text": [
      "Whoa! Solved expanding 1,526 nodes\n"
     ]
    }
   ],
   "metadata": {}
  },
  {
   "cell_type": "code",
   "execution_count": 5,
   "source": [
    "node"
   ],
   "outputs": [
    {
     "output_type": "execute_result",
     "data": {
      "text/plain": [
       "array([[6, 9, 4, 8, 7, 3, 5, 2, 1],\n",
       "       [8, 5, 3, 1, 2, 4, 9, 7, 6],\n",
       "       [7, 2, 1, 5, 9, 6, 8, 3, 4],\n",
       "       [3, 8, 5, 6, 1, 2, 4, 9, 7],\n",
       "       [1, 7, 2, 9, 4, 5, 6, 8, 3],\n",
       "       [4, 6, 9, 7, 3, 8, 1, 5, 2],\n",
       "       [9, 1, 8, 3, 6, 7, 2, 4, 5],\n",
       "       [5, 4, 7, 2, 8, 1, 3, 6, 9],\n",
       "       [2, 3, 6, 4, 5, 9, 7, 1, 8]], dtype=int8)"
      ]
     },
     "metadata": {},
     "execution_count": 5
    }
   ],
   "metadata": {}
  },
  {
   "cell_type": "code",
   "execution_count": 6,
   "source": [
    "sudoku = SUDOKU.copy()\n",
    "\n",
    "tokens = list(range(1, 10)) * 9\n",
    "for n in (_ for _ in sudoku.ravel() if _ != 0):\n",
    "    tokens.remove(n)\n",
    "\n",
    "n = 0\n",
    "max_depth = 0\n",
    "def backtrack(i):\n",
    "    global n\n",
    "    global max_depth\n",
    "    n += 1\n",
    "\n",
    "    if i > max_depth:\n",
    "        max_depth = i\n",
    "        print(f\"Depth: {max_depth}\")\n",
    "\n",
    "    if contains_duplicates(sudoku):\n",
    "        return False\n",
    "    elif valid_solution(sudoku):\n",
    "        print(f\"Whoa! After {n} steps\")\n",
    "        return True\n",
    "    for p in list(zip(*np.where(sudoku==0))):\n",
    "        sudoku[p] = tokens[i]\n",
    "        if backtrack(i+1):\n",
    "            return True\n",
    "        sudoku[p] = 0\n",
    "    return False\n",
    "\n",
    "found = backtrack(0)\n",
    "if found:\n",
    "    print(sudoku)"
   ],
   "outputs": [
    {
     "output_type": "stream",
     "name": "stdout",
     "text": [
      "Depth: 1\n",
      "Depth: 2\n",
      "Depth: 3\n",
      "Depth: 4\n",
      "Depth: 5\n",
      "Depth: 6\n",
      "Depth: 7\n",
      "Depth: 8\n",
      "Depth: 9\n",
      "Depth: 10\n",
      "Depth: 11\n",
      "Depth: 12\n",
      "Depth: 13\n",
      "Depth: 14\n",
      "Depth: 15\n",
      "Depth: 16\n",
      "Depth: 17\n",
      "Depth: 18\n",
      "Depth: 19\n",
      "Depth: 20\n",
      "Depth: 21\n",
      "Depth: 22\n",
      "Depth: 23\n",
      "Depth: 24\n",
      "Depth: 25\n",
      "Depth: 26\n",
      "Depth: 27\n",
      "Depth: 28\n",
      "Depth: 29\n",
      "Depth: 30\n",
      "Depth: 31\n",
      "Depth: 32\n",
      "Depth: 33\n",
      "Depth: 34\n"
     ]
    }
   ],
   "metadata": {}
  }
 ],
 "metadata": {
  "orig_nbformat": 4,
  "language_info": {
   "name": "python",
   "version": "3.8.2",
   "mimetype": "text/x-python",
   "codemirror_mode": {
    "name": "ipython",
    "version": 3
   },
   "pygments_lexer": "ipython3",
   "nbconvert_exporter": "python",
   "file_extension": ".py"
  },
  "kernelspec": {
   "name": "python3",
   "display_name": "Python 3.8.2 64-bit ('ci2021': conda)"
  },
  "interpreter": {
   "hash": "c4f7015d98a0308ea7ccb789025016b5684f5edf9d96e05ed06ead459b2d138a"
  }
 },
 "nbformat": 4,
 "nbformat_minor": 2
}