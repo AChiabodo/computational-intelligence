{
 "cells": [
  {
   "cell_type": "markdown",
   "metadata": {},
   "source": [
    "Copyright **`(c)`** 2021 Giovanni Squillero `<squillero@polito.it>`  \n",
    "[`https://github.com/squillero/computational-intelligence`](https://github.com/squillero/computational-intelligence)  \n",
    "Free for personal or classroom use; see 'LICENCE.md' for details."
   ]
  },
  {
   "cell_type": "code",
   "execution_count": 1,
   "metadata": {},
   "outputs": [],
   "source": [
    "import logging\n",
    "import numpy as np\n",
    "from tqdm.notebook import tqdm\n",
    "from matplotlib import pyplot as plt\n",
    "from matplotlib import cm\n",
    "\n",
    "logging.basicConfig(format='[%(asctime)s] %(levelname)s: %(message)s', datefmt='%H:%M:%S', level=logging.INFO)"
   ]
  },
  {
   "cell_type": "code",
   "execution_count": 2,
   "metadata": {},
   "outputs": [],
   "source": [
    "def rastrigin(x, A=10):\n",
    "    \"\"\"NumPy Rastrigin test function\"\"\"\n",
    "    if x.ndim == 1:\n",
    "        return -np.sum(A - A * np.cos(2*np.pi*x) + x**2)\n",
    "    else:\n",
    "        return -np.sum(A - A * np.cos(2*np.pi*x) + x**2, axis=1)"
   ]
  },
  {
   "cell_type": "code",
   "execution_count": 3,
   "metadata": {},
   "outputs": [
    {
     "ename": "NameError",
     "evalue": "name 'FUNCTION' is not defined",
     "output_type": "error",
     "traceback": [
      "\u001b[0;31m---------------------------------------------------------------------------\u001b[0m",
      "\u001b[0;31mNameError\u001b[0m                                 Traceback (most recent call last)",
      "\u001b[0;32m/var/folders/31/dkl97hks2c14b663vl55pt440000gn/T/ipykernel_4498/3446665895.py\u001b[0m in \u001b[0;36m<module>\u001b[0;34m\u001b[0m\n\u001b[1;32m      4\u001b[0m \u001b[0;31m# yeuch, that's quite terrible...\u001b[0m\u001b[0;34m\u001b[0m\u001b[0;34m\u001b[0m\u001b[0;34m\u001b[0m\u001b[0m\n\u001b[1;32m      5\u001b[0m \u001b[0mx\u001b[0m \u001b[0;34m=\u001b[0m \u001b[0mnp\u001b[0m\u001b[0;34m.\u001b[0m\u001b[0marray\u001b[0m\u001b[0;34m(\u001b[0m\u001b[0mnp\u001b[0m\u001b[0;34m.\u001b[0m\u001b[0mmeshgrid\u001b[0m\u001b[0;34m(\u001b[0m\u001b[0mr\u001b[0m\u001b[0;34m,\u001b[0m \u001b[0mr\u001b[0m\u001b[0;34m)\u001b[0m\u001b[0;34m)\u001b[0m\u001b[0;34m.\u001b[0m\u001b[0mT\u001b[0m\u001b[0;34m.\u001b[0m\u001b[0mreshape\u001b[0m\u001b[0;34m(\u001b[0m\u001b[0;34m-\u001b[0m\u001b[0;36m1\u001b[0m\u001b[0;34m,\u001b[0m \u001b[0;36m2\u001b[0m\u001b[0;34m)\u001b[0m\u001b[0;34m\u001b[0m\u001b[0;34m\u001b[0m\u001b[0m\n\u001b[0;32m----> 6\u001b[0;31m \u001b[0mz\u001b[0m \u001b[0;34m=\u001b[0m \u001b[0mFUNCTION\u001b[0m\u001b[0;34m(\u001b[0m\u001b[0mx\u001b[0m\u001b[0;34m)\u001b[0m\u001b[0;34m.\u001b[0m\u001b[0mreshape\u001b[0m\u001b[0;34m(\u001b[0m\u001b[0mN_POINTS\u001b[0m\u001b[0;34m,\u001b[0m \u001b[0mN_POINTS\u001b[0m\u001b[0;34m)\u001b[0m\u001b[0;34m\u001b[0m\u001b[0;34m\u001b[0m\u001b[0m\n\u001b[0m\u001b[1;32m      7\u001b[0m \u001b[0mplt\u001b[0m\u001b[0;34m.\u001b[0m\u001b[0mfigure\u001b[0m\u001b[0;34m(\u001b[0m\u001b[0mfigsize\u001b[0m\u001b[0;34m=\u001b[0m\u001b[0;34m(\u001b[0m\u001b[0;36m10\u001b[0m\u001b[0;34m,\u001b[0m \u001b[0;36m10\u001b[0m\u001b[0;34m)\u001b[0m\u001b[0;34m)\u001b[0m\u001b[0;34m\u001b[0m\u001b[0;34m\u001b[0m\u001b[0m\n\u001b[1;32m      8\u001b[0m \u001b[0max\u001b[0m \u001b[0;34m=\u001b[0m \u001b[0mplt\u001b[0m\u001b[0;34m.\u001b[0m\u001b[0maxes\u001b[0m\u001b[0;34m(\u001b[0m\u001b[0mprojection\u001b[0m\u001b[0;34m=\u001b[0m\u001b[0;34m'3d'\u001b[0m\u001b[0;34m)\u001b[0m\u001b[0;34m\u001b[0m\u001b[0;34m\u001b[0m\u001b[0m\n",
      "\u001b[0;31mNameError\u001b[0m: name 'FUNCTION' is not defined"
     ]
    }
   ],
   "source": [
    "N_POINTS = 200\n",
    "r = np.linspace(-5, 5, N_POINTS)\n",
    "\n",
    "# yeuch, that's quite terrible...\n",
    "x = np.array(np.meshgrid(r, r)).T.reshape(-1, 2)\n",
    "z = rastrigin(x).reshape(N_POINTS, N_POINTS)\n",
    "plt.figure(figsize=(10, 10)) \n",
    "ax = plt.axes(projection='3d')\n",
    "ax.plot_surface(*np.meshgrid(r, r), z, rstride=1, cstride=1, cmap=cm.plasma, linewidth=0, antialiased=False)    \n",
    "None"
   ]
  },
  {
   "cell_type": "markdown",
   "metadata": {},
   "source": [
    "## Vanilla (1+λ)-ES"
   ]
  },
  {
   "cell_type": "code",
   "execution_count": null,
   "metadata": {},
   "outputs": [],
   "source": [
    "λ = 20\n",
    "σ = .001\n",
    "\n",
    "solution = np.random.random(2) * 5.12 * 2 - 5.12\n",
    "history = list()\n",
    "best_so_far = np.copy(solution)\n",
    "\n",
    "for n in tqdm(range(1_000_000 // λ)):\n",
    "    # offspring <- select λ random points mutating the current solution\n",
    "    offspring = np.random.normal(loc=0, scale=σ, size=(λ, 2)) + solution\n",
    "    # evaluarte and select best\n",
    "    evals = FUNCTION(offspring)\n",
    "    solution = offspring[np.argmax(evals)]\n",
    "    if FUNCTION(best_so_far) < FUNCTION(solution):\n",
    "        best_so_far = np.copy(solution)\n",
    "        history.append((n, FUNCTION(solution)))\n",
    "\n",
    "logging.info(f\"Best solution: {best_so_far} ({FUNCTION(best_so_far)})\")\n",
    "\n",
    "history = np.array(history)\n",
    "plt.figure(figsize=(14, 8)) \n",
    "plt.plot(history[:,0], history[:,1], marker='.')"
   ]
  },
  {
   "cell_type": "markdown",
   "metadata": {},
   "source": [
    "## Adaptive (1+λ)-ES"
   ]
  },
  {
   "cell_type": "code",
   "execution_count": null,
   "metadata": {},
   "outputs": [],
   "source": [
    "\n",
    "λ = 20\n",
    "σ = .01\n",
    "\n",
    "solution = np.random.random(2) * 5.12 * 2 - 5.12\n",
    "history = list()\n",
    "best_so_far = np.copy(solution)\n",
    "\n",
    "stats = [0, 0]\n",
    "for step in tqdm(range(1_000_000 // λ)):\n",
    "    samples = np.random.normal(loc=0, scale=σ, size=(λ, 2)) + solution\n",
    "    evals = FUNCTION(samples)\n",
    "    stats[0] += λ\n",
    "    stats[1] += sum(evals > FUNCTION(solution))\n",
    "    solution = samples[np.argmax(evals)]\n",
    "\n",
    "    if FUNCTION(best_so_far) < FUNCTION(solution):\n",
    "        best_so_far = np.copy(solution)\n",
    "        history.append((step, FUNCTION(solution)))\n",
    "\n",
    "    if (step+1) % 200 == 0:\n",
    "        if stats[0]/stats[1] < 1/5:\n",
    "            σ /= 1.01\n",
    "        elif stats[0]/stats[1] > 1/5:\n",
    "            σ *= 1.01\n",
    "        steps = [0, 0]\n",
    "\n",
    "logging.info(f\"Best solution: {best_so_far} ({FUNCTION(best_so_far)}) (current σ={σ:0.3f})\")\n",
    "\n",
    "history = np.array(history)\n",
    "plt.figure(figsize=(14, 8)) \n",
    "plt.plot(history[:,0], history[:,1], marker='.')"
   ]
  },
  {
   "cell_type": "markdown",
   "metadata": {},
   "source": [
    "## Adaptive (μ+λ)-ES"
   ]
  },
  {
   "cell_type": "code",
   "execution_count": null,
   "metadata": {},
   "outputs": [],
   "source": [
    "μ = 10\n",
    "λ = 100\n",
    "σ = 1\n",
    "\n",
    "population = np.random.random((μ, 3)) * [5.12 * 2, 5.12 * 2, σ]  - [5.12, 5.12, 0]\n",
    "best_so_far = None\n",
    "\n",
    "history = list()\n",
    "\n",
    "for step in tqdm(range(1_000_000 // λ)):\n",
    "    # offspring <- select λ random points from the population of μ\n",
    "    offspring = population[np.random.randint(0, μ, size=(λ,))]\n",
    "    # mutate all σ (last column) and replace negative values with a small number\n",
    "    offspring[:,-1] = np.random.normal(loc=offspring[:,-1], scale=.2)\n",
    "    offspring[offspring[:,-1] < 0, -1] = 1e-5\n",
    "    # mutate all v (all columns but the last), using the σ in the last column\n",
    "    offspring[:,0:-1] = np.random.normal(loc=offspring[:,0:-1], scale=offspring[:,-1].reshape(-1, 1))\n",
    "    # add an extra column with the evaluation and sort\n",
    "    offspring = np.concatenate([offspring, FUNCTION(offspring[:,0:-1]).reshape(-1, 1)], axis=1)\n",
    "    offspring = offspring[offspring[:, -1].argsort()]\n",
    "    # save best (just for the plot)\n",
    "    if best_so_far is None or best_so_far < offspring[-1,-1]:\n",
    "        best_so_far = offspring[-1,-1]\n",
    "        history.append((step, best_so_far))\n",
    "    # select the μ with max fitness and discard fitness\n",
    "    population = np.copy(offspring[-μ:,:-1])\n",
    "\n",
    "final = np.concatenate([population, FUNCTION(population[:,0:-1]).reshape(-1, 1)], axis=1)\n",
    "best_individual = final[final[:, -1].argsort()][-1]\n",
    "logging.info(f\"Best solution: {best_individual[:-2]} ({best_individual[-1]}) (with σ={best_individual[-2]:0.3f})\")\n",
    "\n",
    "history = np.array(history)\n",
    "plt.figure(figsize=(14, 8)) \n",
    "plt.plot(history[:,0], history[:,1], marker='.')"
   ]
  },
  {
   "cell_type": "code",
   "execution_count": null,
   "metadata": {},
   "outputs": [],
   "source": []
  }
 ],
 "metadata": {
  "interpreter": {
   "hash": "371627151b0642f6c185c280fa16312776bda89bbb063ce0f2d8135c657194f4"
  },
  "kernelspec": {
   "display_name": "Python 3.8.2 64-bit ('ci2021': conda)",
   "name": "python3"
  },
  "language_info": {
   "codemirror_mode": {
    "name": "ipython",
    "version": 3
   },
   "file_extension": ".py",
   "mimetype": "text/x-python",
   "name": "python",
   "nbconvert_exporter": "python",
   "pygments_lexer": "ipython3",
   "version": "3.8.2"
  },
  "orig_nbformat": 4
 },
 "nbformat": 4,
 "nbformat_minor": 2
}
